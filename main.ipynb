{
 "cells": [
  {
   "cell_type": "markdown",
   "id": "22d87489",
   "metadata": {},
   "source": [
    "# Hotel Consumptions"
   ]
  },
  {
   "cell_type": "code",
   "execution_count": 1,
   "id": "b55e6644",
   "metadata": {},
   "outputs": [],
   "source": [
    "import pandas as pd\n",
    "import numpy as np\n",
    "import matplotlib.pyplot as plt\n",
    "from jupyterthemes import jtplot\n",
    "from sklearn.model_selection import GridSearchCV, train_test_split\n",
    "from sklearn.svm import SVR"
   ]
  },
  {
   "cell_type": "code",
   "execution_count": 2,
   "id": "a5064b44",
   "metadata": {},
   "outputs": [],
   "source": [
    "# Load hotel consumptions csv\n",
    "hotel_consumptions = pd.read_csv('hotel_consumptions.csv')"
   ]
  },
  {
   "cell_type": "code",
   "execution_count": 3,
   "id": "1b28666a",
   "metadata": {},
   "outputs": [
    {
     "data": {
      "text/plain": [
       "windSpeed       60\n",
       "Temperature      0\n",
       "OcupPaxs       192\n",
       "Timestamp        0\n",
       "CTotal           3\n",
       "dtype: int64"
      ]
     },
     "execution_count": 3,
     "metadata": {},
     "output_type": "execute_result"
    }
   ],
   "source": [
    "# Verify if there are 0 or NaN relevant values\n",
    "(hotel_consumptions == 0).astype(int).sum(axis=0)"
   ]
  },
  {
   "cell_type": "markdown",
   "id": "23c8cf0c",
   "metadata": {},
   "source": [
    "As the data was loaded the first time, we can see that the \"OcupPaxs\" column has NaN values, so replacing the NaN values for 0 and converting also those values to integers is the first step."
   ]
  },
  {
   "cell_type": "code",
   "execution_count": 4,
   "id": "46f61544",
   "metadata": {},
   "outputs": [],
   "source": [
    "# Fill all the NaN values with 0\n",
    "hotel_consumptions = hotel_consumptions.fillna(0)"
   ]
  },
  {
   "cell_type": "code",
   "execution_count": 5,
   "id": "c527ba55",
   "metadata": {},
   "outputs": [],
   "source": [
    "# Convert OcupPaxs values to int\n",
    "hotel_consumptions['OcupPaxs'] = hotel_consumptions['OcupPaxs'].astype(int)"
   ]
  },
  {
   "cell_type": "code",
   "execution_count": 6,
   "id": "3f099c4a",
   "metadata": {},
   "outputs": [],
   "source": [
    "# Delete OcupPaxs with value of 0\n",
    "hotel_consumptions = hotel_consumptions[hotel_consumptions.OcupPaxs != 0]"
   ]
  },
  {
   "cell_type": "code",
   "execution_count": 7,
   "id": "024e5680",
   "metadata": {},
   "outputs": [],
   "source": [
    "# Delete CTotal with value of 0\n",
    "hotel_consumptions = hotel_consumptions[hotel_consumptions.CTotal != 0]"
   ]
  },
  {
   "cell_type": "code",
   "execution_count": 8,
   "id": "3938f346",
   "metadata": {},
   "outputs": [
    {
     "data": {
      "text/html": [
       "<div>\n",
       "<style scoped>\n",
       "    .dataframe tbody tr th:only-of-type {\n",
       "        vertical-align: middle;\n",
       "    }\n",
       "\n",
       "    .dataframe tbody tr th {\n",
       "        vertical-align: top;\n",
       "    }\n",
       "\n",
       "    .dataframe thead th {\n",
       "        text-align: right;\n",
       "    }\n",
       "</style>\n",
       "<table border=\"1\" class=\"dataframe\">\n",
       "  <thead>\n",
       "    <tr style=\"text-align: right;\">\n",
       "      <th></th>\n",
       "      <th>windSpeed</th>\n",
       "      <th>Temperature</th>\n",
       "      <th>OcupPaxs</th>\n",
       "      <th>Timestamp</th>\n",
       "      <th>CTotal</th>\n",
       "    </tr>\n",
       "  </thead>\n",
       "  <tbody>\n",
       "    <tr>\n",
       "      <th>0</th>\n",
       "      <td>11</td>\n",
       "      <td>13</td>\n",
       "      <td>363</td>\n",
       "      <td>1/1/2017 0:00</td>\n",
       "      <td>61.892143</td>\n",
       "    </tr>\n",
       "    <tr>\n",
       "      <th>1</th>\n",
       "      <td>11</td>\n",
       "      <td>13</td>\n",
       "      <td>363</td>\n",
       "      <td>1/1/2017 0:15</td>\n",
       "      <td>63.693636</td>\n",
       "    </tr>\n",
       "    <tr>\n",
       "      <th>2</th>\n",
       "      <td>11</td>\n",
       "      <td>13</td>\n",
       "      <td>363</td>\n",
       "      <td>1/1/2017 0:30</td>\n",
       "      <td>63.354167</td>\n",
       "    </tr>\n",
       "    <tr>\n",
       "      <th>3</th>\n",
       "      <td>11</td>\n",
       "      <td>13</td>\n",
       "      <td>363</td>\n",
       "      <td>1/1/2017 0:45</td>\n",
       "      <td>66.613846</td>\n",
       "    </tr>\n",
       "    <tr>\n",
       "      <th>4</th>\n",
       "      <td>11</td>\n",
       "      <td>13</td>\n",
       "      <td>363</td>\n",
       "      <td>1/1/2017 1:00</td>\n",
       "      <td>70.403636</td>\n",
       "    </tr>\n",
       "  </tbody>\n",
       "</table>\n",
       "</div>"
      ],
      "text/plain": [
       "   windSpeed  Temperature  OcupPaxs      Timestamp     CTotal\n",
       "0         11           13       363  1/1/2017 0:00  61.892143\n",
       "1         11           13       363  1/1/2017 0:15  63.693636\n",
       "2         11           13       363  1/1/2017 0:30  63.354167\n",
       "3         11           13       363  1/1/2017 0:45  66.613846\n",
       "4         11           13       363  1/1/2017 1:00  70.403636"
      ]
     },
     "execution_count": 8,
     "metadata": {},
     "output_type": "execute_result"
    }
   ],
   "source": [
    "hotel_consumptions.head()"
   ]
  },
  {
   "cell_type": "markdown",
   "id": "48f6e75b",
   "metadata": {},
   "source": [
    "Just for better reading and identification the columns \"windSpeed\", \"OcupPaxs\" and \"CTotal\" were renamed to \"Wind Speed\", \"Guests\" and \"Total Consumption\"."
   ]
  },
  {
   "cell_type": "code",
   "execution_count": 9,
   "id": "ff369ad1",
   "metadata": {},
   "outputs": [],
   "source": [
    "# Rename columns\n",
    "hotel_consumptions = hotel_consumptions.rename(\n",
    "    mapper={'windSpeed': 'Wind Speed', 'OcupPaxs': 'Guests', 'CTotal': 'Total Consumption'},\n",
    "    axis='columns')"
   ]
  },
  {
   "cell_type": "markdown",
   "id": "05f7733d",
   "metadata": {},
   "source": [
    "Two new columns were created to store the week day and the season based on the Timestamp column."
   ]
  },
  {
   "cell_type": "code",
   "execution_count": 10,
   "id": "42121911",
   "metadata": {},
   "outputs": [],
   "source": [
    "# Create a new column for week days\n",
    "hotel_consumptions['Week Day'] = pd.to_datetime(hotel_consumptions['Timestamp'])\n",
    "hotel_consumptions['Week Day'] = hotel_consumptions['Week Day'].dt.day_name()"
   ]
  },
  {
   "cell_type": "code",
   "execution_count": 11,
   "id": "b1d9b69e",
   "metadata": {},
   "outputs": [],
   "source": [
    "# Returns season from month number\n",
    "def getSeason(month):\n",
    "    if 1 <= month <= 2:\n",
    "        return 'Winter'\n",
    "    elif 3 <= month <= 5:\n",
    "        return 'Sprint'\n",
    "    elif 6 <= month <= 8:\n",
    "        return 'Summer'\n",
    "    elif 9 <= month <= 11:\n",
    "        return 'Autumn'\n",
    "    elif month == 12:\n",
    "        return 'Winter'"
   ]
  },
  {
   "cell_type": "code",
   "execution_count": 12,
   "id": "0121740f",
   "metadata": {},
   "outputs": [],
   "source": [
    "# Add a new seasons column\n",
    "hotel_consumptions['Season'] = pd.to_datetime(hotel_consumptions['Timestamp'])\n",
    "hotel_consumptions['Season'] = hotel_consumptions['Season'].dt.month\n",
    "hotel_consumptions['Season'] = hotel_consumptions['Season'].apply(getSeason)"
   ]
  },
  {
   "cell_type": "markdown",
   "id": "a66bfb85",
   "metadata": {},
   "source": [
    "In order to store \"Timestamp\" related columns a reindex was needed to have the \"Week Day\" and \"Season\" columns after the \"Timestamp\" one."
   ]
  },
  {
   "cell_type": "code",
   "execution_count": 13,
   "id": "8690d807",
   "metadata": {},
   "outputs": [],
   "source": [
    "# Reindex columns\n",
    "hotel_consumptions = hotel_consumptions.reindex(\n",
    "    columns=['Wind Speed', 'Temperature', 'Guests', 'Timestamp', 'Week Day', 'Season', 'Total Consumption'])"
   ]
  },
  {
   "cell_type": "code",
   "execution_count": 14,
   "id": "c9cc29c8",
   "metadata": {
    "scrolled": true
   },
   "outputs": [
    {
     "data": {
      "text/html": [
       "<div>\n",
       "<style scoped>\n",
       "    .dataframe tbody tr th:only-of-type {\n",
       "        vertical-align: middle;\n",
       "    }\n",
       "\n",
       "    .dataframe tbody tr th {\n",
       "        vertical-align: top;\n",
       "    }\n",
       "\n",
       "    .dataframe thead th {\n",
       "        text-align: right;\n",
       "    }\n",
       "</style>\n",
       "<table border=\"1\" class=\"dataframe\">\n",
       "  <thead>\n",
       "    <tr style=\"text-align: right;\">\n",
       "      <th></th>\n",
       "      <th>Wind Speed</th>\n",
       "      <th>Temperature</th>\n",
       "      <th>Guests</th>\n",
       "      <th>Timestamp</th>\n",
       "      <th>Week Day</th>\n",
       "      <th>Season</th>\n",
       "      <th>Total Consumption</th>\n",
       "    </tr>\n",
       "  </thead>\n",
       "  <tbody>\n",
       "    <tr>\n",
       "      <th>0</th>\n",
       "      <td>11</td>\n",
       "      <td>13</td>\n",
       "      <td>363</td>\n",
       "      <td>1/1/2017 0:00</td>\n",
       "      <td>Sunday</td>\n",
       "      <td>Winter</td>\n",
       "      <td>61.892143</td>\n",
       "    </tr>\n",
       "    <tr>\n",
       "      <th>1</th>\n",
       "      <td>11</td>\n",
       "      <td>13</td>\n",
       "      <td>363</td>\n",
       "      <td>1/1/2017 0:15</td>\n",
       "      <td>Sunday</td>\n",
       "      <td>Winter</td>\n",
       "      <td>63.693636</td>\n",
       "    </tr>\n",
       "    <tr>\n",
       "      <th>2</th>\n",
       "      <td>11</td>\n",
       "      <td>13</td>\n",
       "      <td>363</td>\n",
       "      <td>1/1/2017 0:30</td>\n",
       "      <td>Sunday</td>\n",
       "      <td>Winter</td>\n",
       "      <td>63.354167</td>\n",
       "    </tr>\n",
       "    <tr>\n",
       "      <th>3</th>\n",
       "      <td>11</td>\n",
       "      <td>13</td>\n",
       "      <td>363</td>\n",
       "      <td>1/1/2017 0:45</td>\n",
       "      <td>Sunday</td>\n",
       "      <td>Winter</td>\n",
       "      <td>66.613846</td>\n",
       "    </tr>\n",
       "    <tr>\n",
       "      <th>4</th>\n",
       "      <td>11</td>\n",
       "      <td>13</td>\n",
       "      <td>363</td>\n",
       "      <td>1/1/2017 1:00</td>\n",
       "      <td>Sunday</td>\n",
       "      <td>Winter</td>\n",
       "      <td>70.403636</td>\n",
       "    </tr>\n",
       "  </tbody>\n",
       "</table>\n",
       "</div>"
      ],
      "text/plain": [
       "   Wind Speed  Temperature  Guests      Timestamp Week Day  Season  \\\n",
       "0          11           13     363  1/1/2017 0:00   Sunday  Winter   \n",
       "1          11           13     363  1/1/2017 0:15   Sunday  Winter   \n",
       "2          11           13     363  1/1/2017 0:30   Sunday  Winter   \n",
       "3          11           13     363  1/1/2017 0:45   Sunday  Winter   \n",
       "4          11           13     363  1/1/2017 1:00   Sunday  Winter   \n",
       "\n",
       "   Total Consumption  \n",
       "0          61.892143  \n",
       "1          63.693636  \n",
       "2          63.354167  \n",
       "3          66.613846  \n",
       "4          70.403636  "
      ]
     },
     "execution_count": 14,
     "metadata": {},
     "output_type": "execute_result"
    }
   ],
   "source": [
    "hotel_consumptions.head()"
   ]
  },
  {
   "cell_type": "markdown",
   "id": "0edfd660",
   "metadata": {},
   "source": [
    "After these simple operations, a simple data study can be done to get for example:"
   ]
  },
  {
   "cell_type": "markdown",
   "id": "f45f450d",
   "metadata": {},
   "source": [
    "**Season with more guests**"
   ]
  },
  {
   "cell_type": "code",
   "execution_count": 15,
   "id": "4993c5fc",
   "metadata": {},
   "outputs": [
    {
     "data": {
      "text/html": [
       "<div>\n",
       "<style scoped>\n",
       "    .dataframe tbody tr th:only-of-type {\n",
       "        vertical-align: middle;\n",
       "    }\n",
       "\n",
       "    .dataframe tbody tr th {\n",
       "        vertical-align: top;\n",
       "    }\n",
       "\n",
       "    .dataframe thead th {\n",
       "        text-align: right;\n",
       "    }\n",
       "</style>\n",
       "<table border=\"1\" class=\"dataframe\">\n",
       "  <thead>\n",
       "    <tr style=\"text-align: right;\">\n",
       "      <th></th>\n",
       "      <th>Guests</th>\n",
       "    </tr>\n",
       "    <tr>\n",
       "      <th>Season</th>\n",
       "      <th></th>\n",
       "    </tr>\n",
       "  </thead>\n",
       "  <tbody>\n",
       "    <tr>\n",
       "      <th>Autumn</th>\n",
       "      <td>2565178</td>\n",
       "    </tr>\n",
       "    <tr>\n",
       "      <th>Sprint</th>\n",
       "      <td>2605704</td>\n",
       "    </tr>\n",
       "    <tr>\n",
       "      <th>Summer</th>\n",
       "      <td>3875515</td>\n",
       "    </tr>\n",
       "    <tr>\n",
       "      <th>Winter</th>\n",
       "      <td>930214</td>\n",
       "    </tr>\n",
       "  </tbody>\n",
       "</table>\n",
       "</div>"
      ],
      "text/plain": [
       "         Guests\n",
       "Season         \n",
       "Autumn  2565178\n",
       "Sprint  2605704\n",
       "Summer  3875515\n",
       "Winter   930214"
      ]
     },
     "execution_count": 15,
     "metadata": {},
     "output_type": "execute_result"
    }
   ],
   "source": [
    "hotel_consumptions[[\"Season\", \"Guests\"]].groupby(by=\"Season\").sum()"
   ]
  },
  {
   "cell_type": "markdown",
   "id": "0d64c17f",
   "metadata": {},
   "source": [
    "**Week days with more energy consumption**"
   ]
  },
  {
   "cell_type": "code",
   "execution_count": 16,
   "id": "8592f7cc",
   "metadata": {},
   "outputs": [
    {
     "data": {
      "text/html": [
       "<div>\n",
       "<style scoped>\n",
       "    .dataframe tbody tr th:only-of-type {\n",
       "        vertical-align: middle;\n",
       "    }\n",
       "\n",
       "    .dataframe tbody tr th {\n",
       "        vertical-align: top;\n",
       "    }\n",
       "\n",
       "    .dataframe thead th {\n",
       "        text-align: right;\n",
       "    }\n",
       "</style>\n",
       "<table border=\"1\" class=\"dataframe\">\n",
       "  <thead>\n",
       "    <tr style=\"text-align: right;\">\n",
       "      <th></th>\n",
       "      <th>Total Consumption</th>\n",
       "    </tr>\n",
       "    <tr>\n",
       "      <th>Week Day</th>\n",
       "      <th></th>\n",
       "    </tr>\n",
       "  </thead>\n",
       "  <tbody>\n",
       "    <tr>\n",
       "      <th>Friday</th>\n",
       "      <td>122.221481</td>\n",
       "    </tr>\n",
       "    <tr>\n",
       "      <th>Monday</th>\n",
       "      <td>121.507827</td>\n",
       "    </tr>\n",
       "    <tr>\n",
       "      <th>Saturday</th>\n",
       "      <td>119.444046</td>\n",
       "    </tr>\n",
       "    <tr>\n",
       "      <th>Sunday</th>\n",
       "      <td>119.316728</td>\n",
       "    </tr>\n",
       "    <tr>\n",
       "      <th>Thursday</th>\n",
       "      <td>119.850290</td>\n",
       "    </tr>\n",
       "    <tr>\n",
       "      <th>Tuesday</th>\n",
       "      <td>119.566387</td>\n",
       "    </tr>\n",
       "    <tr>\n",
       "      <th>Wednesday</th>\n",
       "      <td>117.398322</td>\n",
       "    </tr>\n",
       "  </tbody>\n",
       "</table>\n",
       "</div>"
      ],
      "text/plain": [
       "           Total Consumption\n",
       "Week Day                    \n",
       "Friday            122.221481\n",
       "Monday            121.507827\n",
       "Saturday          119.444046\n",
       "Sunday            119.316728\n",
       "Thursday          119.850290\n",
       "Tuesday           119.566387\n",
       "Wednesday         117.398322"
      ]
     },
     "execution_count": 16,
     "metadata": {},
     "output_type": "execute_result"
    }
   ],
   "source": [
    "hotel_consumptions[[\"Week Day\", \"Total Consumption\"]].groupby(by=\"Week Day\").mean()"
   ]
  },
  {
   "cell_type": "markdown",
   "id": "0b55de7f",
   "metadata": {},
   "source": [
    "**Plot comparing the temperature and the number of guests**"
   ]
  },
  {
   "cell_type": "code",
   "execution_count": 17,
   "id": "c2110fa6",
   "metadata": {},
   "outputs": [
    {
     "data": {
      "image/png": "[encoded data removed]",
      "text/plain": [
       "<Figure size 460.8x403.2 with 1 Axes>"
      ]
     },
     "metadata": {},
     "output_type": "display_data"
    }
   ],
   "source": [
    "jtplot.style()\n",
    "\n",
    "x = hotel_consumptions['Temperature'].tolist()\n",
    "y = hotel_consumptions['Guests'].tolist()\n",
    "\n",
    "plt.scatter(x, y)\n",
    "plt.show()"
   ]
  },
  {
   "cell_type": "markdown",
   "id": "e095433c",
   "metadata": {},
   "source": [
    "One of the requirements to train a model, is that every value should be float convertible, this means that new columns based on the \"Timestamp\" one should be created and the \"Season\" and \"Week Day\" ones should be changed. "
   ]
  },
  {
   "cell_type": "code",
   "execution_count": null,
   "id": "a2b63d2a",
   "metadata": {},
   "outputs": [],
   "source": [
    "# Change Season column to store the month\n",
    "hotel_consumptions['Season'] = pd.to_datetime(hotel_consumptions['Timestamp'])\n",
    "hotel_consumptions['Season'] = hotel_consumptions['Season'].dt.month"
   ]
  },
  {
   "cell_type": "code",
   "execution_count": null,
   "id": "3d935323",
   "metadata": {},
   "outputs": [],
   "source": [
    "# Rename Season column to Month\n",
    "hotel_consumptions = hotel_consumptions.rename(\n",
    "    mapper={'Season': 'Month'},\n",
    "    axis='columns')"
   ]
  },
  {
   "cell_type": "code",
   "execution_count": null,
   "id": "c9fd9d6b",
   "metadata": {},
   "outputs": [],
   "source": [
    "# Change the Week Day column, to store the week day number instead of the week day name\n",
    "# Monday=0, Tuesday=1, Wednesday=2, Thursday=3, Friday=4, Saturday=5, Sunday=6\n",
    "hotel_consumptions['Week Day'] = pd.to_datetime(hotel_consumptions['Timestamp'])\n",
    "hotel_consumptions['Week Day'] = hotel_consumptions['Week Day'].dt.dayofweek"
   ]
  },
  {
   "cell_type": "code",
   "execution_count": null,
   "id": "28751aea",
   "metadata": {},
   "outputs": [],
   "source": [
    "# Add a new day column \n",
    "hotel_consumptions['Day'] = pd.to_datetime(hotel_consumptions['Timestamp'])\n",
    "hotel_consumptions['Day'] = hotel_consumptions['Day'].dt.day"
   ]
  },
  {
   "cell_type": "code",
   "execution_count": null,
   "id": "83d466ac",
   "metadata": {},
   "outputs": [],
   "source": [
    "# Add new year column\n",
    "hotel_consumptions['Year'] = pd.to_datetime(hotel_consumptions['Timestamp'])\n",
    "hotel_consumptions['Year'] = hotel_consumptions['Year'].dt.year"
   ]
  },
  {
   "cell_type": "code",
   "execution_count": null,
   "id": "0792eb85",
   "metadata": {},
   "outputs": [],
   "source": [
    "# Reindex columns\n",
    "hotel_consumptions = hotel_consumptions.reindex(\n",
    "    columns=['Wind Speed', 'Temperature', 'Guests', 'Timestamp', 'Week Day', 'Day', 'Month', 'Year', 'Total Consumption'])"
   ]
  },
  {
   "cell_type": "code",
   "execution_count": null,
   "id": "25d31224",
   "metadata": {},
   "outputs": [],
   "source": [
    "hotel_consumptions = hotel_consumptions.drop(columns=['Timestamp'])"
   ]
  },
  {
   "cell_type": "code",
   "execution_count": null,
   "id": "6a025e0d",
   "metadata": {},
   "outputs": [],
   "source": [
    "hotel_consumptions.head()"
   ]
  },
  {
   "cell_type": "markdown",
   "id": "7ce9dd47",
   "metadata": {},
   "source": [
    "### Prediction using Decision Tree Regression"
   ]
  },
  {
   "cell_type": "markdown",
   "id": "de7f7dbe",
   "metadata": {},
   "source": [
    "Decision Trees (DTs) are a non-parametric supervised learning method used for classification and regression.  \n",
    "The goal is to create a model that predicts the value of a target variable by learning simple decision rules inferred from the data features. "
   ]
  },
  {
   "cell_type": "code",
   "execution_count": null,
   "id": "7f927f04",
   "metadata": {},
   "outputs": [],
   "source": [
    "hotel_consumptions.describe()"
   ]
  },
  {
   "cell_type": "code",
   "execution_count": null,
   "id": "4593bf64",
   "metadata": {},
   "outputs": [],
   "source": [
    "X, y = hotel_consumptions.loc[:,:'Year'].values, hotel_consumptions['Total Consumption'].values\n",
    "\n",
    "X_train, X_test, y_train, y_test = train_test_split(X, y, random_state=0, shuffle=False, train_size=.7)"
   ]
  },
  {
   "cell_type": "code",
   "execution_count": null,
   "id": "1152951b",
   "metadata": {},
   "outputs": [],
   "source": [
    "from sklearn.tree import DecisionTreeRegressor\n",
    "\n",
    "dt = DecisionTreeRegressor().fit(X_train, y_train)\n",
    "score = dt.score(X_test, y_test)\n",
    "score"
   ]
  },
  {
   "cell_type": "code",
   "execution_count": null,
   "id": "5b9abb71",
   "metadata": {},
   "outputs": [],
   "source": [
    "y_pred = dt.predict(X_test)"
   ]
  },
  {
   "cell_type": "code",
   "execution_count": null,
   "id": "6a814a2d",
   "metadata": {},
   "outputs": [],
   "source": [
    "predictionsDTR = pd.DataFrame({'Actual Consumption':y_test, 'Predicted Consumption':y_pred}) \n",
    "predictionsDTR"
   ]
  },
  {
   "cell_type": "markdown",
   "id": "f16bf5aa",
   "metadata": {},
   "source": [
    "### Prediction using Linear Regression"
   ]
  },
  {
   "cell_type": "markdown",
   "id": "3918ea52",
   "metadata": {},
   "source": [
    "Linear regression method fits a linear model with coefficients w = (w1,w2,...,wp) to minimize the residual sum of squares between the observed responses in the dataset, and the responses predicted by the linear approximation."
   ]
  },
  {
   "cell_type": "code",
   "execution_count": null,
   "id": "6af45f92",
   "metadata": {},
   "outputs": [],
   "source": [
    "X, y = hotel_consumptions.loc[:,:'Year'].values, hotel_consumptions['Total Consumption'].values\n",
    "\n",
    "X_train, X_test, y_train, y_test = train_test_split(X, y, random_state=0, shuffle=False, train_size=.7)"
   ]
  },
  {
   "cell_type": "code",
   "execution_count": null,
   "id": "c8ffb08c",
   "metadata": {},
   "outputs": [],
   "source": [
    "from sklearn.linear_model import LinearRegression\n",
    "\n",
    "lr = LinearRegression().fit(X_train, y_train)\n",
    "score = lr.score(X_test, y_test)\n",
    "score"
   ]
  },
  {
   "cell_type": "code",
   "execution_count": null,
   "id": "e6b3b51a",
   "metadata": {},
   "outputs": [],
   "source": [
    "y_pred = lr.predict(X_test)"
   ]
  },
  {
   "cell_type": "code",
   "execution_count": null,
   "id": "ac695a04",
   "metadata": {},
   "outputs": [],
   "source": [
    "predictionsLR = pd.DataFrame({'Actual Consumption':y_test, 'Predicted Consumption':y_pred}) \n",
    "predictionsLR"
   ]
  },
  {
   "cell_type": "markdown",
   "id": "df67195e",
   "metadata": {},
   "source": [
    "In order to avoid **overfitting**, grid cross validation can be used."
   ]
  },
  {
   "cell_type": "code",
   "execution_count": null,
   "id": "d1f246f2",
   "metadata": {},
   "outputs": [],
   "source": [
    "# list_of_params = [.001, 0.01, 0.1, 1, 10, 100]\n",
    "# param_grid = {\n",
    "#        'C': list_of_params, \n",
    "#        'gamma': list_of_params\n",
    "#    } \n",
    "\n",
    "# scores = GridSearchCV(estimator=SVR(), \n",
    "#                      param_grid=param_grid, \n",
    "#                      cv=5, \n",
    "#                      return_train_score=True).fit(x_train, y_train)\n",
    "\n",
    "# print(f'best score: { scores.best_score_}\\n best params: {scores.best_params_}\\n score over test: {scores.score(x_test, y_test)}\\n\\n Best estimator: {scores.best_estimator_}')"
   ]
  },
  {
   "cell_type": "markdown",
   "id": "cbc9be88",
   "metadata": {},
   "source": [
    "### Prediction using linear SVM"
   ]
  },
  {
   "cell_type": "markdown",
   "id": "ecb7e7d2",
   "metadata": {},
   "source": [
    "Support vector machines (SVMs) are a set of supervised learning methods used for classification, regression and outliers detection."
   ]
  },
  {
   "cell_type": "code",
   "execution_count": null,
   "id": "622b94dc",
   "metadata": {},
   "outputs": [],
   "source": [
    "X, y = hotel_consumptions.loc[:,:'Year'].values, hotel_consumptions['Total Consumption'].values\n",
    "\n",
    "X_train, X_test, y_train, y_test = train_test_split(X, y, random_state=0, shuffle=False, train_size=.7)"
   ]
  },
  {
   "cell_type": "code",
   "execution_count": null,
   "id": "0b77d890",
   "metadata": {},
   "outputs": [],
   "source": [
    "from sklearn.svm import LinearSVR\n",
    "\n",
    "svm = LinearSVR(C=100,\n",
    "                max_iter=1000000,\n",
    "                random_state=1).fit(X_train, y_train)\n",
    "\n",
    "score = svm.score(X_test, y_test)\n",
    "score        "
   ]
  },
  {
   "cell_type": "code",
   "execution_count": null,
   "id": "0a575aa9",
   "metadata": {},
   "outputs": [],
   "source": [
    "y_pred = svm.predict(X_test)"
   ]
  },
  {
   "cell_type": "code",
   "execution_count": null,
   "id": "91ad4f0b",
   "metadata": {},
   "outputs": [],
   "source": [
    "predictionsSVM = pd.DataFrame({'Actual Consumption':y_test, 'Predicted Consumption':y_pred}) \n",
    "predictionsSVM"
   ]
  }
 ],
 "metadata": {
  "kernelspec": {
   "display_name": "Python 3",
   "language": "python",
   "name": "python3"
  },
  "language_info": {
   "codemirror_mode": {
    "name": "ipython",
    "version": 3
   },
   "file_extension": ".py",
   "mimetype": "text/x-python",
   "name": "python",
   "nbconvert_exporter": "python",
   "pygments_lexer": "ipython3",
   "version": "3.9.4"
  }
 },
 "nbformat": 4,
 "nbformat_minor": 5
}