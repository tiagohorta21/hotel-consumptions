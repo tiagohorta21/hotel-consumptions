{
 "cells": [
  {
   "cell_type": "markdown",
   "id": "22d87489",
   "metadata": {},
   "source": [
    "# Hotel Consumptions"
   ]
  },
  {
   "cell_type": "code",
   "execution_count": 1,
   "id": "b55e6644",
   "metadata": {},
   "outputs": [],
   "source": [
    "import pandas as pd\n",
    "import numpy as np\n",
    "import matplotlib.pyplot as plt\n",
    "from jupyterthemes import jtplot\n",
    "from sklearn.linear_model import LinearRegression, Ridge, Lasso\n",
    "from sklearn.model_selection import train_test_split"
   ]
  },
  {
   "cell_type": "code",
   "execution_count": 2,
   "id": "a5064b44",
   "metadata": {},
   "outputs": [],
   "source": [
    "# Load hotel consumptions csv\n",
    "hotel_consumptions = pd.read_csv('hotel_consumptions.csv')"
   ]
  },
  {
   "cell_type": "code",
   "execution_count": 3,
   "id": "1b28666a",
   "metadata": {},
   "outputs": [
    {
     "data": {
      "text/html": [
       "<div>\n",
       "<style scoped>\n",
       "    .dataframe tbody tr th:only-of-type {\n",
       "        vertical-align: middle;\n",
       "    }\n",
       "\n",
       "    .dataframe tbody tr th {\n",
       "        vertical-align: top;\n",
       "    }\n",
       "\n",
       "    .dataframe thead th {\n",
       "        text-align: right;\n",
       "    }\n",
       "</style>\n",
       "<table border=\"1\" class=\"dataframe\">\n",
       "  <thead>\n",
       "    <tr style=\"text-align: right;\">\n",
       "      <th></th>\n",
       "      <th>windSpeed</th>\n",
       "      <th>Temperature</th>\n",
       "      <th>OcupPaxs</th>\n",
       "      <th>Timestamp</th>\n",
       "      <th>CTotal</th>\n",
       "    </tr>\n",
       "  </thead>\n",
       "  <tbody>\n",
       "    <tr>\n",
       "      <th>26409</th>\n",
       "      <td>11</td>\n",
       "      <td>12</td>\n",
       "      <td>NaN</td>\n",
       "      <td>11/30/2017 22:45</td>\n",
       "      <td>20.539231</td>\n",
       "    </tr>\n",
       "    <tr>\n",
       "      <th>26410</th>\n",
       "      <td>11</td>\n",
       "      <td>12</td>\n",
       "      <td>NaN</td>\n",
       "      <td>11/30/2017 23:00</td>\n",
       "      <td>21.045000</td>\n",
       "    </tr>\n",
       "    <tr>\n",
       "      <th>26411</th>\n",
       "      <td>11</td>\n",
       "      <td>12</td>\n",
       "      <td>NaN</td>\n",
       "      <td>11/30/2017 23:15</td>\n",
       "      <td>21.329231</td>\n",
       "    </tr>\n",
       "    <tr>\n",
       "      <th>26412</th>\n",
       "      <td>11</td>\n",
       "      <td>12</td>\n",
       "      <td>NaN</td>\n",
       "      <td>11/30/2017 23:30</td>\n",
       "      <td>21.953077</td>\n",
       "    </tr>\n",
       "    <tr>\n",
       "      <th>26413</th>\n",
       "      <td>11</td>\n",
       "      <td>12</td>\n",
       "      <td>NaN</td>\n",
       "      <td>11/30/2017 23:45</td>\n",
       "      <td>23.383077</td>\n",
       "    </tr>\n",
       "  </tbody>\n",
       "</table>\n",
       "</div>"
      ],
      "text/plain": [
       "       windSpeed  Temperature  OcupPaxs         Timestamp     CTotal\n",
       "26409         11           12       NaN  11/30/2017 22:45  20.539231\n",
       "26410         11           12       NaN  11/30/2017 23:00  21.045000\n",
       "26411         11           12       NaN  11/30/2017 23:15  21.329231\n",
       "26412         11           12       NaN  11/30/2017 23:30  21.953077\n",
       "26413         11           12       NaN  11/30/2017 23:45  23.383077"
      ]
     },
     "execution_count": 3,
     "metadata": {},
     "output_type": "execute_result"
    }
   ],
   "source": [
    "hotel_consumptions.tail()"
   ]
  },
  {
   "cell_type": "markdown",
   "id": "23c8cf0c",
   "metadata": {},
   "source": [
    "As the data was loaded the first time, we can see that the \"OcupPaxs\" column has NaN values, so replacing the NaN values for 0 and converting also those values to integers is the first step."
   ]
  },
  {
   "cell_type": "code",
   "execution_count": 4,
   "id": "3f099c4a",
   "metadata": {},
   "outputs": [],
   "source": [
    "# Fill all the NaN values for 0\n",
    "hotel_consumptions = hotel_consumptions.fillna(0)"
   ]
  },
  {
   "cell_type": "code",
   "execution_count": 5,
   "id": "bf409d9d",
   "metadata": {},
   "outputs": [],
   "source": [
    "# Convert OcupPaxs values to int\n",
    "hotel_consumptions['OcupPaxs'] = hotel_consumptions['OcupPaxs'].astype(int)"
   ]
  },
  {
   "cell_type": "markdown",
   "id": "48f6e75b",
   "metadata": {},
   "source": [
    "Just for better reading and identification the columns \"windSpeed\", \"OcupPaxs\" and \"CTotal\" were renamed to \"Wind Speed\", \"Guests\" and \"Total Consumption\"."
   ]
  },
  {
   "cell_type": "code",
   "execution_count": 6,
   "id": "ff369ad1",
   "metadata": {},
   "outputs": [],
   "source": [
    "# Rename columns\n",
    "hotel_consumptions = hotel_consumptions.rename(\n",
    "    mapper={'windSpeed': 'Wind Speed', 'OcupPaxs': 'Guests', 'CTotal': 'Total Consumption'},\n",
    "    axis='columns')"
   ]
  },
  {
   "cell_type": "markdown",
   "id": "05f7733d",
   "metadata": {},
   "source": [
    "Two new columns were created to store the week day and the season based on the Timestamp column."
   ]
  },
  {
   "cell_type": "code",
   "execution_count": 7,
   "id": "42121911",
   "metadata": {},
   "outputs": [],
   "source": [
    "# Create a new column for week days\n",
    "hotel_consumptions['Week Day'] = pd.to_datetime(hotel_consumptions['Timestamp'])\n",
    "hotel_consumptions['Week Day'] = hotel_consumptions['Week Day'].dt.day_name()"
   ]
  },
  {
   "cell_type": "code",
   "execution_count": 8,
   "id": "b1d9b69e",
   "metadata": {},
   "outputs": [],
   "source": [
    "# Returns season from month number\n",
    "def getSeason(month):\n",
    "    if 1 <= month <= 2:\n",
    "        return 'Winter'\n",
    "    elif 3 <= month <= 5:\n",
    "        return 'Sprint'\n",
    "    elif 6 <= month <= 8:\n",
    "        return 'Summer'\n",
    "    elif 9 <= month <= 11:\n",
    "        return 'Autumn'\n",
    "    elif month == 12:\n",
    "        return 'Winter'"
   ]
  },
  {
   "cell_type": "code",
   "execution_count": 9,
   "id": "0121740f",
   "metadata": {},
   "outputs": [],
   "source": [
    "# Add a new seasons column\n",
    "hotel_consumptions['Season'] = pd.to_datetime(hotel_consumptions['Timestamp'])\n",
    "hotel_consumptions['Season'] = hotel_consumptions['Season'].dt.month\n",
    "hotel_consumptions['Season'] = hotel_consumptions['Season'].apply(getSeason)"
   ]
  },
  {
   "cell_type": "markdown",
   "id": "a66bfb85",
   "metadata": {},
   "source": [
    "In order to store \"Timestamp\" related columns a reindex was needed to have the \"Week Day\" and \"Season\" columns after the \"Timestamp\" one."
   ]
  },
  {
   "cell_type": "code",
   "execution_count": 10,
   "id": "8690d807",
   "metadata": {},
   "outputs": [],
   "source": [
    "# Reindex columns\n",
    "hotel_consumptions = hotel_consumptions.reindex(\n",
    "    columns=['Wind Speed', 'Temperature', 'Guests', 'Timestamp', 'Week Day', 'Season', 'Total Consumption'])"
   ]
  },
  {
   "cell_type": "code",
   "execution_count": 11,
   "id": "c9cc29c8",
   "metadata": {},
   "outputs": [
    {
     "data": {
      "text/html": [
       "<div>\n",
       "<style scoped>\n",
       "    .dataframe tbody tr th:only-of-type {\n",
       "        vertical-align: middle;\n",
       "    }\n",
       "\n",
       "    .dataframe tbody tr th {\n",
       "        vertical-align: top;\n",
       "    }\n",
       "\n",
       "    .dataframe thead th {\n",
       "        text-align: right;\n",
       "    }\n",
       "</style>\n",
       "<table border=\"1\" class=\"dataframe\">\n",
       "  <thead>\n",
       "    <tr style=\"text-align: right;\">\n",
       "      <th></th>\n",
       "      <th>Wind Speed</th>\n",
       "      <th>Temperature</th>\n",
       "      <th>Guests</th>\n",
       "      <th>Timestamp</th>\n",
       "      <th>Week Day</th>\n",
       "      <th>Season</th>\n",
       "      <th>Total Consumption</th>\n",
       "    </tr>\n",
       "  </thead>\n",
       "  <tbody>\n",
       "    <tr>\n",
       "      <th>0</th>\n",
       "      <td>11</td>\n",
       "      <td>13</td>\n",
       "      <td>363</td>\n",
       "      <td>1/1/2017 0:00</td>\n",
       "      <td>Sunday</td>\n",
       "      <td>Winter</td>\n",
       "      <td>61.892143</td>\n",
       "    </tr>\n",
       "    <tr>\n",
       "      <th>1</th>\n",
       "      <td>11</td>\n",
       "      <td>13</td>\n",
       "      <td>363</td>\n",
       "      <td>1/1/2017 0:15</td>\n",
       "      <td>Sunday</td>\n",
       "      <td>Winter</td>\n",
       "      <td>63.693636</td>\n",
       "    </tr>\n",
       "    <tr>\n",
       "      <th>2</th>\n",
       "      <td>11</td>\n",
       "      <td>13</td>\n",
       "      <td>363</td>\n",
       "      <td>1/1/2017 0:30</td>\n",
       "      <td>Sunday</td>\n",
       "      <td>Winter</td>\n",
       "      <td>63.354167</td>\n",
       "    </tr>\n",
       "    <tr>\n",
       "      <th>3</th>\n",
       "      <td>11</td>\n",
       "      <td>13</td>\n",
       "      <td>363</td>\n",
       "      <td>1/1/2017 0:45</td>\n",
       "      <td>Sunday</td>\n",
       "      <td>Winter</td>\n",
       "      <td>66.613846</td>\n",
       "    </tr>\n",
       "    <tr>\n",
       "      <th>4</th>\n",
       "      <td>11</td>\n",
       "      <td>13</td>\n",
       "      <td>363</td>\n",
       "      <td>1/1/2017 1:00</td>\n",
       "      <td>Sunday</td>\n",
       "      <td>Winter</td>\n",
       "      <td>70.403636</td>\n",
       "    </tr>\n",
       "  </tbody>\n",
       "</table>\n",
       "</div>"
      ],
      "text/plain": [
       "   Wind Speed  Temperature  Guests      Timestamp Week Day  Season  \\\n",
       "0          11           13     363  1/1/2017 0:00   Sunday  Winter   \n",
       "1          11           13     363  1/1/2017 0:15   Sunday  Winter   \n",
       "2          11           13     363  1/1/2017 0:30   Sunday  Winter   \n",
       "3          11           13     363  1/1/2017 0:45   Sunday  Winter   \n",
       "4          11           13     363  1/1/2017 1:00   Sunday  Winter   \n",
       "\n",
       "   Total Consumption  \n",
       "0          61.892143  \n",
       "1          63.693636  \n",
       "2          63.354167  \n",
       "3          66.613846  \n",
       "4          70.403636  "
      ]
     },
     "execution_count": 11,
     "metadata": {},
     "output_type": "execute_result"
    }
   ],
   "source": [
    "hotel_consumptions.head()"
   ]
  },
  {
   "cell_type": "markdown",
   "id": "0edfd660",
   "metadata": {},
   "source": [
    "After these simple operations, a simple data study can be done to get for example:"
   ]
  },
  {
   "cell_type": "markdown",
   "id": "f45f450d",
   "metadata": {},
   "source": [
    "**Season with more guests**"
   ]
  },
  {
   "cell_type": "code",
   "execution_count": 12,
   "id": "4993c5fc",
   "metadata": {},
   "outputs": [
    {
     "data": {
      "text/html": [
       "<div>\n",
       "<style scoped>\n",
       "    .dataframe tbody tr th:only-of-type {\n",
       "        vertical-align: middle;\n",
       "    }\n",
       "\n",
       "    .dataframe tbody tr th {\n",
       "        vertical-align: top;\n",
       "    }\n",
       "\n",
       "    .dataframe thead th {\n",
       "        text-align: right;\n",
       "    }\n",
       "</style>\n",
       "<table border=\"1\" class=\"dataframe\">\n",
       "  <thead>\n",
       "    <tr style=\"text-align: right;\">\n",
       "      <th></th>\n",
       "      <th>Guests</th>\n",
       "    </tr>\n",
       "    <tr>\n",
       "      <th>Season</th>\n",
       "      <th></th>\n",
       "    </tr>\n",
       "  </thead>\n",
       "  <tbody>\n",
       "    <tr>\n",
       "      <th>Autumn</th>\n",
       "      <td>2565725</td>\n",
       "    </tr>\n",
       "    <tr>\n",
       "      <th>Sprint</th>\n",
       "      <td>2605989</td>\n",
       "    </tr>\n",
       "    <tr>\n",
       "      <th>Summer</th>\n",
       "      <td>3876157</td>\n",
       "    </tr>\n",
       "    <tr>\n",
       "      <th>Winter</th>\n",
       "      <td>930214</td>\n",
       "    </tr>\n",
       "  </tbody>\n",
       "</table>\n",
       "</div>"
      ],
      "text/plain": [
       "         Guests\n",
       "Season         \n",
       "Autumn  2565725\n",
       "Sprint  2605989\n",
       "Summer  3876157\n",
       "Winter   930214"
      ]
     },
     "execution_count": 12,
     "metadata": {},
     "output_type": "execute_result"
    }
   ],
   "source": [
    "hotel_consumptions[[\"Season\", \"Guests\"]].groupby(by=\"Season\").sum()"
   ]
  },
  {
   "cell_type": "markdown",
   "id": "0d64c17f",
   "metadata": {},
   "source": [
    "**Week days with more energy consumption**"
   ]
  },
  {
   "cell_type": "code",
   "execution_count": 13,
   "id": "8592f7cc",
   "metadata": {},
   "outputs": [
    {
     "data": {
      "text/html": [
       "<div>\n",
       "<style scoped>\n",
       "    .dataframe tbody tr th:only-of-type {\n",
       "        vertical-align: middle;\n",
       "    }\n",
       "\n",
       "    .dataframe tbody tr th {\n",
       "        vertical-align: top;\n",
       "    }\n",
       "\n",
       "    .dataframe thead th {\n",
       "        text-align: right;\n",
       "    }\n",
       "</style>\n",
       "<table border=\"1\" class=\"dataframe\">\n",
       "  <thead>\n",
       "    <tr style=\"text-align: right;\">\n",
       "      <th></th>\n",
       "      <th>Total Consumption</th>\n",
       "    </tr>\n",
       "    <tr>\n",
       "      <th>Week Day</th>\n",
       "      <th></th>\n",
       "    </tr>\n",
       "  </thead>\n",
       "  <tbody>\n",
       "    <tr>\n",
       "      <th>Friday</th>\n",
       "      <td>114.092411</td>\n",
       "    </tr>\n",
       "    <tr>\n",
       "      <th>Monday</th>\n",
       "      <td>112.979085</td>\n",
       "    </tr>\n",
       "    <tr>\n",
       "      <th>Saturday</th>\n",
       "      <td>111.498028</td>\n",
       "    </tr>\n",
       "    <tr>\n",
       "      <th>Sunday</th>\n",
       "      <td>111.030242</td>\n",
       "    </tr>\n",
       "    <tr>\n",
       "      <th>Thursday</th>\n",
       "      <td>108.949379</td>\n",
       "    </tr>\n",
       "    <tr>\n",
       "      <th>Tuesday</th>\n",
       "      <td>110.550957</td>\n",
       "    </tr>\n",
       "    <tr>\n",
       "      <th>Wednesday</th>\n",
       "      <td>107.760470</td>\n",
       "    </tr>\n",
       "  </tbody>\n",
       "</table>\n",
       "</div>"
      ],
      "text/plain": [
       "           Total Consumption\n",
       "Week Day                    \n",
       "Friday            114.092411\n",
       "Monday            112.979085\n",
       "Saturday          111.498028\n",
       "Sunday            111.030242\n",
       "Thursday          108.949379\n",
       "Tuesday           110.550957\n",
       "Wednesday         107.760470"
      ]
     },
     "execution_count": 13,
     "metadata": {},
     "output_type": "execute_result"
    }
   ],
   "source": [
    "hotel_consumptions[[\"Week Day\", \"Total Consumption\"]].groupby(by=\"Week Day\").mean()"
   ]
  },
  {
   "cell_type": "markdown",
   "id": "0b55de7f",
   "metadata": {},
   "source": [
    "**Plot comparing the temperature and the number of guests**"
   ]
  },
  {
   "cell_type": "code",
   "execution_count": 14,
   "id": "c2110fa6",
   "metadata": {},
   "outputs": [
    {
     "data": {
      "image/png": "[encoded data removed]",
      "text/plain": [
       "<Figure size 460.8x403.2 with 1 Axes>"
      ]
     },
     "metadata": {},
     "output_type": "display_data"
    }
   ],
   "source": [
    "jtplot.style()\n",
    "\n",
    "x = hotel_consumptions['Temperature'].tolist()\n",
    "y = hotel_consumptions['Guests'].tolist()\n",
    "\n",
    "plt.scatter(x, y)\n",
    "plt.show()"
   ]
  },
  {
   "cell_type": "markdown",
   "id": "e095433c",
   "metadata": {},
   "source": [
    "One of the requirements to train a model, is that every value should be float convertible, this means that new columns based on the \"Timestamp\" one should be created and the \"Season\" and \"Week Day\" ones should be changed. "
   ]
  },
  {
   "cell_type": "code",
   "execution_count": 17,
   "id": "a2b63d2a",
   "metadata": {},
   "outputs": [],
   "source": [
    "# Change Season column to store the month\n",
    "hotel_consumptions['Season'] = pd.to_datetime(hotel_consumptions['Timestamp'])\n",
    "hotel_consumptions['Season'] = hotel_consumptions['Season'].dt.month"
   ]
  },
  {
   "cell_type": "code",
   "execution_count": null,
   "id": "3d935323",
   "metadata": {},
   "outputs": [],
   "source": [
    "# Rename Season column to Month\n",
    "hotel_consumptions = hotel_consumptions.rename(\n",
    "    mapper={'Season': 'Month'},\n",
    "    axis='columns')"
   ]
  },
  {
   "cell_type": "code",
   "execution_count": 18,
   "id": "c9fd9d6b",
   "metadata": {},
   "outputs": [],
   "source": [
    "# Change the Week Day column, to store the week day number instead of the week day name\n",
    "# Monday=0, Tuesday=1, Wednesday=2, Thursday=3, Friday=4, Saturday=5, Sunday=6\n",
    "hotel_consumptions['Week Day'] = pd.to_datetime(hotel_consumptions['Timestamp'])\n",
    "hotel_consumptions['Week Day'] = hotel_consumptions['Week Day'].dt.dayofweek"
   ]
  },
  {
   "cell_type": "code",
   "execution_count": 19,
   "id": "28751aea",
   "metadata": {},
   "outputs": [],
   "source": [
    "# Add a new day column \n",
    "hotel_consumptions['Day'] = pd.to_datetime(hotel_consumptions['Timestamp'])\n",
    "hotel_consumptions['Day'] = hotel_consumptions['Day'].dt.day"
   ]
  },
  {
   "cell_type": "code",
   "execution_count": 21,
   "id": "0792eb85",
   "metadata": {},
   "outputs": [],
   "source": [
    "# Reindex columns\n",
    "hotel_consumptions = hotel_consumptions.reindex(\n",
    "    columns=['Wind Speed', 'Temperature', 'Guests', 'Timestamp', 'Day', 'Week Day', 'Month', 'Total Consumption'])"
   ]
  },
  {
   "cell_type": "code",
   "execution_count": 22,
   "id": "25d31224",
   "metadata": {},
   "outputs": [],
   "source": [
    "hotel_consumptions = hotel_consumptions.drop(columns=['Timestamp'])"
   ]
  },
  {
   "cell_type": "code",
   "execution_count": 23,
   "id": "6a025e0d",
   "metadata": {},
   "outputs": [
    {
     "data": {
      "text/html": [
       "<div>\n",
       "<style scoped>\n",
       "    .dataframe tbody tr th:only-of-type {\n",
       "        vertical-align: middle;\n",
       "    }\n",
       "\n",
       "    .dataframe tbody tr th {\n",
       "        vertical-align: top;\n",
       "    }\n",
       "\n",
       "    .dataframe thead th {\n",
       "        text-align: right;\n",
       "    }\n",
       "</style>\n",
       "<table border=\"1\" class=\"dataframe\">\n",
       "  <thead>\n",
       "    <tr style=\"text-align: right;\">\n",
       "      <th></th>\n",
       "      <th>Wind Speed</th>\n",
       "      <th>Temperature</th>\n",
       "      <th>Guests</th>\n",
       "      <th>Day</th>\n",
       "      <th>Week Day</th>\n",
       "      <th>Month</th>\n",
       "      <th>Total Consumption</th>\n",
       "    </tr>\n",
       "  </thead>\n",
       "  <tbody>\n",
       "    <tr>\n",
       "      <th>0</th>\n",
       "      <td>11</td>\n",
       "      <td>13</td>\n",
       "      <td>363</td>\n",
       "      <td>1</td>\n",
       "      <td>6</td>\n",
       "      <td>1</td>\n",
       "      <td>61.892143</td>\n",
       "    </tr>\n",
       "    <tr>\n",
       "      <th>1</th>\n",
       "      <td>11</td>\n",
       "      <td>13</td>\n",
       "      <td>363</td>\n",
       "      <td>1</td>\n",
       "      <td>6</td>\n",
       "      <td>1</td>\n",
       "      <td>63.693636</td>\n",
       "    </tr>\n",
       "    <tr>\n",
       "      <th>2</th>\n",
       "      <td>11</td>\n",
       "      <td>13</td>\n",
       "      <td>363</td>\n",
       "      <td>1</td>\n",
       "      <td>6</td>\n",
       "      <td>1</td>\n",
       "      <td>63.354167</td>\n",
       "    </tr>\n",
       "    <tr>\n",
       "      <th>3</th>\n",
       "      <td>11</td>\n",
       "      <td>13</td>\n",
       "      <td>363</td>\n",
       "      <td>1</td>\n",
       "      <td>6</td>\n",
       "      <td>1</td>\n",
       "      <td>66.613846</td>\n",
       "    </tr>\n",
       "    <tr>\n",
       "      <th>4</th>\n",
       "      <td>11</td>\n",
       "      <td>13</td>\n",
       "      <td>363</td>\n",
       "      <td>1</td>\n",
       "      <td>6</td>\n",
       "      <td>1</td>\n",
       "      <td>70.403636</td>\n",
       "    </tr>\n",
       "  </tbody>\n",
       "</table>\n",
       "</div>"
      ],
      "text/plain": [
       "   Wind Speed  Temperature  Guests  Day  Week Day  Month  Total Consumption\n",
       "0          11           13     363    1         6      1          61.892143\n",
       "1          11           13     363    1         6      1          63.693636\n",
       "2          11           13     363    1         6      1          63.354167\n",
       "3          11           13     363    1         6      1          66.613846\n",
       "4          11           13     363    1         6      1          70.403636"
      ]
     },
     "execution_count": 23,
     "metadata": {},
     "output_type": "execute_result"
    }
   ],
   "source": [
    "hotel_consumptions.head()"
   ]
  },
  {
   "cell_type": "markdown",
   "id": "f16bf5aa",
   "metadata": {},
   "source": [
    "In order to predict energy consumption for future days, a **Linear Regression** method was chosen."
   ]
  },
  {
   "cell_type": "code",
   "execution_count": 24,
   "id": "6af45f92",
   "metadata": {},
   "outputs": [],
   "source": [
    "X, y = hotel_consumptions.values, hotel_consumptions['Total Consumption']\n",
    "\n",
    "x_train, x_test, y_train, y_test = train_test_split(X, y, random_state=0, shuffle=True, train_size=.7)\n",
    "\n",
    "ols = LinearRegression().fit(x_train, y_train)"
   ]
  },
  {
   "cell_type": "code",
   "execution_count": 25,
   "id": "05129269",
   "metadata": {},
   "outputs": [
    {
     "name": "stdout",
     "output_type": "stream",
     "text": [
      "Training set score: 1.00\n",
      "Test set score: 1.00\n"
     ]
    }
   ],
   "source": [
    "print(\"Training set score: {:.2f}\".format(ols.score(x_train, y_train)))\n",
    "print(\"Test set score: {:.2f}\".format(ols.score(x_test, y_test)))"
   ]
  }
 ],
 "metadata": {
  "kernelspec": {
   "display_name": "Python 3",
   "language": "python",
   "name": "python3"
  },
  "language_info": {
   "codemirror_mode": {
    "name": "ipython",
    "version": 3
   },
   "file_extension": ".py",
   "mimetype": "text/x-python",
   "name": "python",
   "nbconvert_exporter": "python",
   "pygments_lexer": "ipython3",
   "version": "3.9.4"
  }
 },
 "nbformat": 4,
 "nbformat_minor": 5
}